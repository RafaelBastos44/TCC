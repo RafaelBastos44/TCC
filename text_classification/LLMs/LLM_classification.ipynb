{
 "cells": [
  {
   "cell_type": "code",
   "execution_count": 1,
   "metadata": {},
   "outputs": [
    {
     "name": "stderr",
     "output_type": "stream",
     "text": [
      "c:\\Users\\Rafael\\Desktop\\Prog\\TCC\\venv\\Lib\\site-packages\\tqdm\\auto.py:21: TqdmWarning: IProgress not found. Please update jupyter and ipywidgets. See https://ipywidgets.readthedocs.io/en/stable/user_install.html\n",
      "  from .autonotebook import tqdm as notebook_tqdm\n"
     ]
    }
   ],
   "source": [
    "# !pip install -q -U google-generativeai\n",
    "import google.generativeai as genai\n",
    "import pandas as pd\n",
    "import numpy as np\n",
    "import os\n",
    "import time\n",
    "from getpass import getpass"
   ]
  },
  {
   "cell_type": "code",
   "execution_count": 8,
   "metadata": {},
   "outputs": [
    {
     "data": {
      "text/plain": [
       "'Please provide me with a prompt! I need something to work with in order to give you a helpful response. \\n\\nFor example, you could ask me to:\\n\\n* **Write a story:** \"Write a short story about a cat who becomes a detective.\"\\n* **Generate code:** \"Write a Python function that checks if a number is prime.\"\\n* **Translate text:** \"Translate \\'Hello, how are you?\\' into Spanish.\"\\n* **Summarize a text:** \"Summarize the main points of the article about climate change.\"\\n* **Answer a question:** \"What is the capital of France?\"\\n\\nLet me know what you want me to do! \\n'"
      ]
     },
     "execution_count": 8,
     "metadata": {},
     "output_type": "execute_result"
    }
   ],
   "source": [
    "os.environ['GOOGLE_API_KEY'] = getpass(\"Por favor, cole sua chave de API aqui: \")\n",
    "GOOGLE_API_KEY = os.getenv('GOOGLE_API_KEY')\n",
    "genai.configure(api_key=GOOGLE_API_KEY)\n",
    "\n",
    "safety_settings = [\n",
    "    {'category': 'HARM_CATEGORY_SEXUALLY_EXPLICIT', 'threshold': 'BLOCK_NONE'},\n",
    "    {'category': 'HARM_CATEGORY_HATE_SPEECH', 'threshold': 'BLOCK_NONE'},\n",
    "    {'category': 'HARM_CATEGORY_HARASSMENT', 'threshold': 'BLOCK_NONE'},\n",
    "    {'category': 'HARM_CATEGORY_DANGEROUS_CONTENT', 'threshold': 'BLOCK_NONE'}\n",
    "]\n",
    "\n",
    "model = genai.GenerativeModel('gemini-1.5-flash', safety_settings=safety_settings)"
   ]
  },
  {
   "cell_type": "code",
   "execution_count": 9,
   "metadata": {},
   "outputs": [
    {
     "data": {
      "text/html": [
       "<div>\n",
       "<style scoped>\n",
       "    .dataframe tbody tr th:only-of-type {\n",
       "        vertical-align: middle;\n",
       "    }\n",
       "\n",
       "    .dataframe tbody tr th {\n",
       "        vertical-align: top;\n",
       "    }\n",
       "\n",
       "    .dataframe thead th {\n",
       "        text-align: right;\n",
       "    }\n",
       "</style>\n",
       "<table border=\"1\" class=\"dataframe\">\n",
       "  <thead>\n",
       "    <tr style=\"text-align: right;\">\n",
       "      <th></th>\n",
       "      <th>Class</th>\n",
       "      <th>Product name</th>\n",
       "      <th>Id</th>\n",
       "    </tr>\n",
       "  </thead>\n",
       "  <tbody>\n",
       "    <tr>\n",
       "      <th>0</th>\n",
       "      <td>caminhao sonoro</td>\n",
       "      <td>Caminhão Sonoro - Brinquedo Educativo de Madei...</td>\n",
       "      <td>2471056238</td>\n",
       "    </tr>\n",
       "    <tr>\n",
       "      <th>1</th>\n",
       "      <td>caminhao sonoro</td>\n",
       "      <td>Caminhão Sonoro Em Madeira - Carimbras</td>\n",
       "      <td>2783873157</td>\n",
       "    </tr>\n",
       "    <tr>\n",
       "      <th>2</th>\n",
       "      <td>caminhao sonoro</td>\n",
       "      <td>Fecho Cinto Segurança Dianteiro Caminhão Com S...</td>\n",
       "      <td>1625230957</td>\n",
       "    </tr>\n",
       "    <tr>\n",
       "      <th>3</th>\n",
       "      <td>caminhao sonoro</td>\n",
       "      <td>Dni0526 Alarme Sinalizador Sonoro E Visual par...</td>\n",
       "      <td>2469110493</td>\n",
       "    </tr>\n",
       "    <tr>\n",
       "      <th>4</th>\n",
       "      <td>caminhao sonoro</td>\n",
       "      <td>Caminhão Sonoro - Brinquedo Educativo de Madei...</td>\n",
       "      <td>29704506</td>\n",
       "    </tr>\n",
       "  </tbody>\n",
       "</table>\n",
       "</div>"
      ],
      "text/plain": [
       "             Class                                       Product name  \\\n",
       "0  caminhao sonoro  Caminhão Sonoro - Brinquedo Educativo de Madei...   \n",
       "1  caminhao sonoro             Caminhão Sonoro Em Madeira - Carimbras   \n",
       "2  caminhao sonoro  Fecho Cinto Segurança Dianteiro Caminhão Com S...   \n",
       "3  caminhao sonoro  Dni0526 Alarme Sinalizador Sonoro E Visual par...   \n",
       "4  caminhao sonoro  Caminhão Sonoro - Brinquedo Educativo de Madei...   \n",
       "\n",
       "           Id  \n",
       "0  2471056238  \n",
       "1  2783873157  \n",
       "2  1625230957  \n",
       "3  2469110493  \n",
       "4    29704506  "
      ]
     },
     "execution_count": 9,
     "metadata": {},
     "output_type": "execute_result"
    }
   ],
   "source": [
    "path = \"../data/\"\n",
    "df = pd.read_excel(path + \"americanas_products.xlsx\")\n",
    "df.head()"
   ]
  },
  {
   "cell_type": "code",
   "execution_count": 10,
   "metadata": {},
   "outputs": [
    {
     "name": "stdout",
     "output_type": "stream",
     "text": [
      "<class 'pandas.core.frame.DataFrame'>\n",
      "RangeIndex: 490 entries, 0 to 489\n",
      "Data columns (total 4 columns):\n",
      " #   Column              Non-Null Count  Dtype  \n",
      "---  ------              --------------  -----  \n",
      " 0   Class               490 non-null    object \n",
      " 1   Product name        490 non-null    object \n",
      " 2   Id                  490 non-null    int64  \n",
      " 3   LLM classification  0 non-null      float64\n",
      "dtypes: float64(1), int64(1), object(2)\n",
      "memory usage: 15.4+ KB\n"
     ]
    }
   ],
   "source": [
    "df[\"LLM classification\"] = np.nan\n",
    "df.info()"
   ]
  },
  {
   "cell_type": "code",
   "execution_count": 11,
   "metadata": {},
   "outputs": [],
   "source": [
    "def get_classification(product, classes):\n",
    "\n",
    "    prompt = f\"\"\"\n",
    "    Contexto: Você receberá o título de um produto proveniente de um site de marketplace.\n",
    "    Objetivo: Classifique o produto em uma das seguintes categorias: {classes}.\n",
    "    Formatação: Escreva apenas a classificação do produto em uma linha.\n",
    "    \n",
    "    O produto é: {product}\n",
    "    \"\"\"\n",
    "    response = model.generate_content(prompt)\n",
    "    print(f\"Produto: {product}\\nResposta: {response.text}\")\n",
    "    time.sleep(4)\n",
    "    return response.text"
   ]
  },
  {
   "cell_type": "code",
   "execution_count": 6,
   "metadata": {},
   "outputs": [
    {
     "name": "stdout",
     "output_type": "stream",
     "text": [
      "Produto: Caminhão Sonoro - Brinquedo Educativo de Madeira - Carimbras\n",
      "Resposta: caminhao sonoro \n",
      "\n"
     ]
    },
    {
     "ename": "KeyboardInterrupt",
     "evalue": "",
     "output_type": "error",
     "traceback": [
      "\u001b[1;31m---------------------------------------------------------------------------\u001b[0m",
      "\u001b[1;31mKeyboardInterrupt\u001b[0m                         Traceback (most recent call last)",
      "Cell \u001b[1;32mIn[6], line 4\u001b[0m\n\u001b[0;32m      1\u001b[0m classes \u001b[38;5;241m=\u001b[39m df[\u001b[38;5;124m\"\u001b[39m\u001b[38;5;124mClass\u001b[39m\u001b[38;5;124m\"\u001b[39m]\u001b[38;5;241m.\u001b[39munique()\n\u001b[0;32m      3\u001b[0m \u001b[38;5;28;01mfor\u001b[39;00m index, row \u001b[38;5;129;01min\u001b[39;00m df\u001b[38;5;241m.\u001b[39miterrows():\n\u001b[1;32m----> 4\u001b[0m     df\u001b[38;5;241m.\u001b[39mat[index, \u001b[38;5;124m\"\u001b[39m\u001b[38;5;124mLLM classification\u001b[39m\u001b[38;5;124m\"\u001b[39m] \u001b[38;5;241m=\u001b[39m \u001b[43mget_classification\u001b[49m\u001b[43m(\u001b[49m\u001b[43mrow\u001b[49m\u001b[43m[\u001b[49m\u001b[38;5;124;43m\"\u001b[39;49m\u001b[38;5;124;43mProduct name\u001b[39;49m\u001b[38;5;124;43m\"\u001b[39;49m\u001b[43m]\u001b[49m\u001b[43m,\u001b[49m\u001b[43m \u001b[49m\u001b[43mclasses\u001b[49m\u001b[43m)\u001b[49m\n\u001b[0;32m      5\u001b[0m     df\u001b[38;5;241m.\u001b[39mto_excel(path \u001b[38;5;241m+\u001b[39m \u001b[38;5;124m\"\u001b[39m\u001b[38;5;124mamericanas_products_classified.xlsx\u001b[39m\u001b[38;5;124m\"\u001b[39m, index\u001b[38;5;241m=\u001b[39m\u001b[38;5;28;01mFalse\u001b[39;00m)\n",
      "Cell \u001b[1;32mIn[5], line 12\u001b[0m, in \u001b[0;36mget_classification\u001b[1;34m(product, classes)\u001b[0m\n\u001b[0;32m     10\u001b[0m response \u001b[38;5;241m=\u001b[39m model\u001b[38;5;241m.\u001b[39mgenerate_content(prompt)\n\u001b[0;32m     11\u001b[0m \u001b[38;5;28mprint\u001b[39m(\u001b[38;5;124mf\u001b[39m\u001b[38;5;124m\"\u001b[39m\u001b[38;5;124mProduto: \u001b[39m\u001b[38;5;132;01m{\u001b[39;00mproduct\u001b[38;5;132;01m}\u001b[39;00m\u001b[38;5;130;01m\\n\u001b[39;00m\u001b[38;5;124mResposta: \u001b[39m\u001b[38;5;132;01m{\u001b[39;00mresponse\u001b[38;5;241m.\u001b[39mtext\u001b[38;5;132;01m}\u001b[39;00m\u001b[38;5;124m\"\u001b[39m)\n\u001b[1;32m---> 12\u001b[0m \u001b[43mtime\u001b[49m\u001b[38;5;241;43m.\u001b[39;49m\u001b[43msleep\u001b[49m\u001b[43m(\u001b[49m\u001b[38;5;241;43m4\u001b[39;49m\u001b[43m)\u001b[49m\n\u001b[0;32m     13\u001b[0m \u001b[38;5;28;01mreturn\u001b[39;00m response\u001b[38;5;241m.\u001b[39mtext\n",
      "\u001b[1;31mKeyboardInterrupt\u001b[0m: "
     ]
    }
   ],
   "source": [
    "classes = df[\"Class\"].unique()\n",
    "\n",
    "for index, row in df.iterrows():\n",
    "    df.at[index, \"LLM classification\"] = get_classification(row[\"Product name\"], classes)\n",
    "    df.to_excel(path + \"americanas_products_classified.xlsx\", index=False)"
   ]
  },
  {
   "cell_type": "code",
   "execution_count": 12,
   "metadata": {},
   "outputs": [
    {
     "ename": "AttributeError",
     "evalue": "Can only use .str accessor with string values!",
     "output_type": "error",
     "traceback": [
      "\u001b[1;31m---------------------------------------------------------------------------\u001b[0m",
      "\u001b[1;31mAttributeError\u001b[0m                            Traceback (most recent call last)",
      "Cell \u001b[1;32mIn[12], line 2\u001b[0m\n\u001b[0;32m      1\u001b[0m \u001b[38;5;66;03m# Remover espaços da coluna \"LLM classification\", e colocar tudo em minusculo\u001b[39;00m\n\u001b[1;32m----> 2\u001b[0m df[\u001b[38;5;124m\"\u001b[39m\u001b[38;5;124mLLM classification\u001b[39m\u001b[38;5;124m\"\u001b[39m] \u001b[38;5;241m=\u001b[39m \u001b[43mdf\u001b[49m\u001b[43m[\u001b[49m\u001b[38;5;124;43m\"\u001b[39;49m\u001b[38;5;124;43mLLM classification\u001b[39;49m\u001b[38;5;124;43m\"\u001b[39;49m\u001b[43m]\u001b[49m\u001b[38;5;241;43m.\u001b[39;49m\u001b[43mstr\u001b[49m\u001b[38;5;241m.\u001b[39mstrip()\u001b[38;5;241m.\u001b[39mstr\u001b[38;5;241m.\u001b[39mlower()\n",
      "File \u001b[1;32mc:\\Users\\Rafael\\Desktop\\Prog\\TCC\\venv\\Lib\\site-packages\\pandas\\core\\generic.py:6299\u001b[0m, in \u001b[0;36mNDFrame.__getattr__\u001b[1;34m(self, name)\u001b[0m\n\u001b[0;32m   6292\u001b[0m \u001b[38;5;28;01mif\u001b[39;00m (\n\u001b[0;32m   6293\u001b[0m     name \u001b[38;5;129;01mnot\u001b[39;00m \u001b[38;5;129;01min\u001b[39;00m \u001b[38;5;28mself\u001b[39m\u001b[38;5;241m.\u001b[39m_internal_names_set\n\u001b[0;32m   6294\u001b[0m     \u001b[38;5;129;01mand\u001b[39;00m name \u001b[38;5;129;01mnot\u001b[39;00m \u001b[38;5;129;01min\u001b[39;00m \u001b[38;5;28mself\u001b[39m\u001b[38;5;241m.\u001b[39m_metadata\n\u001b[0;32m   6295\u001b[0m     \u001b[38;5;129;01mand\u001b[39;00m name \u001b[38;5;129;01mnot\u001b[39;00m \u001b[38;5;129;01min\u001b[39;00m \u001b[38;5;28mself\u001b[39m\u001b[38;5;241m.\u001b[39m_accessors\n\u001b[0;32m   6296\u001b[0m     \u001b[38;5;129;01mand\u001b[39;00m \u001b[38;5;28mself\u001b[39m\u001b[38;5;241m.\u001b[39m_info_axis\u001b[38;5;241m.\u001b[39m_can_hold_identifiers_and_holds_name(name)\n\u001b[0;32m   6297\u001b[0m ):\n\u001b[0;32m   6298\u001b[0m     \u001b[38;5;28;01mreturn\u001b[39;00m \u001b[38;5;28mself\u001b[39m[name]\n\u001b[1;32m-> 6299\u001b[0m \u001b[38;5;28;01mreturn\u001b[39;00m \u001b[38;5;28;43mobject\u001b[39;49m\u001b[38;5;241;43m.\u001b[39;49m\u001b[38;5;21;43m__getattribute__\u001b[39;49m\u001b[43m(\u001b[49m\u001b[38;5;28;43mself\u001b[39;49m\u001b[43m,\u001b[49m\u001b[43m \u001b[49m\u001b[43mname\u001b[49m\u001b[43m)\u001b[49m\n",
      "File \u001b[1;32mc:\\Users\\Rafael\\Desktop\\Prog\\TCC\\venv\\Lib\\site-packages\\pandas\\core\\accessor.py:224\u001b[0m, in \u001b[0;36mCachedAccessor.__get__\u001b[1;34m(self, obj, cls)\u001b[0m\n\u001b[0;32m    221\u001b[0m \u001b[38;5;28;01mif\u001b[39;00m obj \u001b[38;5;129;01mis\u001b[39;00m \u001b[38;5;28;01mNone\u001b[39;00m:\n\u001b[0;32m    222\u001b[0m     \u001b[38;5;66;03m# we're accessing the attribute of the class, i.e., Dataset.geo\u001b[39;00m\n\u001b[0;32m    223\u001b[0m     \u001b[38;5;28;01mreturn\u001b[39;00m \u001b[38;5;28mself\u001b[39m\u001b[38;5;241m.\u001b[39m_accessor\n\u001b[1;32m--> 224\u001b[0m accessor_obj \u001b[38;5;241m=\u001b[39m \u001b[38;5;28;43mself\u001b[39;49m\u001b[38;5;241;43m.\u001b[39;49m\u001b[43m_accessor\u001b[49m\u001b[43m(\u001b[49m\u001b[43mobj\u001b[49m\u001b[43m)\u001b[49m\n\u001b[0;32m    225\u001b[0m \u001b[38;5;66;03m# Replace the property with the accessor object. Inspired by:\u001b[39;00m\n\u001b[0;32m    226\u001b[0m \u001b[38;5;66;03m# https://www.pydanny.com/cached-property.html\u001b[39;00m\n\u001b[0;32m    227\u001b[0m \u001b[38;5;66;03m# We need to use object.__setattr__ because we overwrite __setattr__ on\u001b[39;00m\n\u001b[0;32m    228\u001b[0m \u001b[38;5;66;03m# NDFrame\u001b[39;00m\n\u001b[0;32m    229\u001b[0m \u001b[38;5;28mobject\u001b[39m\u001b[38;5;241m.\u001b[39m\u001b[38;5;21m__setattr__\u001b[39m(obj, \u001b[38;5;28mself\u001b[39m\u001b[38;5;241m.\u001b[39m_name, accessor_obj)\n",
      "File \u001b[1;32mc:\\Users\\Rafael\\Desktop\\Prog\\TCC\\venv\\Lib\\site-packages\\pandas\\core\\strings\\accessor.py:191\u001b[0m, in \u001b[0;36mStringMethods.__init__\u001b[1;34m(self, data)\u001b[0m\n\u001b[0;32m    188\u001b[0m \u001b[38;5;28;01mdef\u001b[39;00m \u001b[38;5;21m__init__\u001b[39m(\u001b[38;5;28mself\u001b[39m, data) \u001b[38;5;241m-\u001b[39m\u001b[38;5;241m>\u001b[39m \u001b[38;5;28;01mNone\u001b[39;00m:\n\u001b[0;32m    189\u001b[0m     \u001b[38;5;28;01mfrom\u001b[39;00m \u001b[38;5;21;01mpandas\u001b[39;00m\u001b[38;5;21;01m.\u001b[39;00m\u001b[38;5;21;01mcore\u001b[39;00m\u001b[38;5;21;01m.\u001b[39;00m\u001b[38;5;21;01marrays\u001b[39;00m\u001b[38;5;21;01m.\u001b[39;00m\u001b[38;5;21;01mstring_\u001b[39;00m \u001b[38;5;28;01mimport\u001b[39;00m StringDtype\n\u001b[1;32m--> 191\u001b[0m     \u001b[38;5;28mself\u001b[39m\u001b[38;5;241m.\u001b[39m_inferred_dtype \u001b[38;5;241m=\u001b[39m \u001b[38;5;28;43mself\u001b[39;49m\u001b[38;5;241;43m.\u001b[39;49m\u001b[43m_validate\u001b[49m\u001b[43m(\u001b[49m\u001b[43mdata\u001b[49m\u001b[43m)\u001b[49m\n\u001b[0;32m    192\u001b[0m     \u001b[38;5;28mself\u001b[39m\u001b[38;5;241m.\u001b[39m_is_categorical \u001b[38;5;241m=\u001b[39m \u001b[38;5;28misinstance\u001b[39m(data\u001b[38;5;241m.\u001b[39mdtype, CategoricalDtype)\n\u001b[0;32m    193\u001b[0m     \u001b[38;5;28mself\u001b[39m\u001b[38;5;241m.\u001b[39m_is_string \u001b[38;5;241m=\u001b[39m \u001b[38;5;28misinstance\u001b[39m(data\u001b[38;5;241m.\u001b[39mdtype, StringDtype)\n",
      "File \u001b[1;32mc:\\Users\\Rafael\\Desktop\\Prog\\TCC\\venv\\Lib\\site-packages\\pandas\\core\\strings\\accessor.py:245\u001b[0m, in \u001b[0;36mStringMethods._validate\u001b[1;34m(data)\u001b[0m\n\u001b[0;32m    242\u001b[0m inferred_dtype \u001b[38;5;241m=\u001b[39m lib\u001b[38;5;241m.\u001b[39minfer_dtype(values, skipna\u001b[38;5;241m=\u001b[39m\u001b[38;5;28;01mTrue\u001b[39;00m)\n\u001b[0;32m    244\u001b[0m \u001b[38;5;28;01mif\u001b[39;00m inferred_dtype \u001b[38;5;129;01mnot\u001b[39;00m \u001b[38;5;129;01min\u001b[39;00m allowed_types:\n\u001b[1;32m--> 245\u001b[0m     \u001b[38;5;28;01mraise\u001b[39;00m \u001b[38;5;167;01mAttributeError\u001b[39;00m(\u001b[38;5;124m\"\u001b[39m\u001b[38;5;124mCan only use .str accessor with string values!\u001b[39m\u001b[38;5;124m\"\u001b[39m)\n\u001b[0;32m    246\u001b[0m \u001b[38;5;28;01mreturn\u001b[39;00m inferred_dtype\n",
      "\u001b[1;31mAttributeError\u001b[0m: Can only use .str accessor with string values!"
     ]
    }
   ],
   "source": [
    "# Remover espaços da coluna \"LLM classification\", e colocar tudo em minusculo\n",
    "df[\"LLM classification\"] = df[\"LLM classification\"].str.strip().str.lower()"
   ]
  },
  {
   "cell_type": "code",
   "execution_count": null,
   "metadata": {},
   "outputs": [
    {
     "data": {
      "text/plain": [
       "array(['caminhao sonoro', 'peruca', 'rodo', 'biscoito wafer',\n",
       "       'rolamento carro', 'massa', 'papel camurca', 'progressiva',\n",
       "       'puxador porta', 'amaciante calo', 'bule', 'vibrador',\n",
       "       'oleo reparador', 'papel sulfite', 'porta papel higienico',\n",
       "       'cortador', 'botao acionamento caixa', 'ampola capilar',\n",
       "       'espelho passaro', 'brinquedo relogio', 'pino macho',\n",
       "       'adaptador tomada', 'mascara cabelo', 'tira mancha pet',\n",
       "       'painel luz led', 'tasso', 'moletom', 'gel fixador',\n",
       "       'oleo essencial', 'lente lanterna carro', 'tiara', 'ponta solda',\n",
       "       'suporte smartphone', 'brinquedo bola corda pet', 'dock station',\n",
       "       'controle disparador', 'suplemento alimentar infantil',\n",
       "       'armario aereo', 'sapatilha', 'fechadura porta', 'fotocondutor',\n",
       "       'limpador oral', 'carregador usb', 'bandana pet', 'caixa acustica',\n",
       "       'touca', 'bomba vacuo', 'moldura quadro', 'teclado musical',\n",
       "       'patch'], dtype=object)"
      ]
     },
     "execution_count": 9,
     "metadata": {},
     "output_type": "execute_result"
    }
   ],
   "source": [
    "#print lines from df where LLM classification is not different from the original classification\n",
    "dfErros = df[df[\"Class\"] != df[\"LLM classification\"]]\n",
    "dfErros = dfErros.drop(columns=[\"Product name\", \"Id\"])\n",
    "df[\"LLM classification\"].unique()"
   ]
  },
  {
   "cell_type": "code",
   "execution_count": null,
   "metadata": {},
   "outputs": [
    {
     "name": "stdout",
     "output_type": "stream",
     "text": [
      "                               precision    recall  f1-score   support\n",
      "\n",
      "             adaptador tomada       0.83      1.00      0.91        10\n",
      "               amaciante calo       1.00      1.00      1.00        10\n",
      "               ampola capilar       1.00      1.00      1.00         9\n",
      "                armario aereo       1.00      1.00      1.00        10\n",
      "                  bandana pet       1.00      1.00      1.00        10\n",
      "               biscoito wafer       1.00      1.00      1.00        10\n",
      "                  bomba vacuo       1.00      1.00      1.00        10\n",
      "      botao acionamento caixa       1.00      1.00      1.00        10\n",
      "     brinquedo bola corda pet       1.00      1.00      1.00        10\n",
      "            brinquedo relogio       0.91      1.00      0.95        10\n",
      "                         bule       1.00      1.00      1.00        10\n",
      "               caixa acustica       1.00      1.00      1.00        10\n",
      "              caminhao sonoro       0.50      1.00      0.67        10\n",
      "               carregador usb       1.00      1.00      1.00        10\n",
      "          controle disparador       1.00      1.00      1.00        10\n",
      "                     cortador       0.83      1.00      0.91        10\n",
      "                 dock station       1.00      1.00      1.00        10\n",
      "              espelho passaro       1.00      0.80      0.89        10\n",
      "              fechadura porta       1.00      1.00      1.00        10\n",
      "                 fotocondutor       1.00      1.00      1.00        10\n",
      "                  gel fixador       1.00      1.00      1.00        10\n",
      "         lente lanterna carro       1.00      1.00      1.00        10\n",
      "                limpador oral       1.00      0.90      0.95        10\n",
      "               mascara cabelo       1.00      0.80      0.89        10\n",
      "                        massa       1.00      1.00      1.00        10\n",
      "               moldura quadro       1.00      1.00      1.00         9\n",
      "                      moletom       1.00      1.00      1.00        10\n",
      "               oleo essencial       1.00      1.00      1.00        10\n",
      "               oleo reparador       1.00      1.00      1.00        10\n",
      "               painel luz led       1.00      1.00      1.00        10\n",
      "                papel camurca       0.80      0.40      0.53        10\n",
      "                papel sulfite       1.00      1.00      1.00        10\n",
      "                        patch       1.00      1.00      1.00        10\n",
      "                       peruca       1.00      1.00      1.00        10\n",
      "                   pino macho       1.00      0.80      0.89        10\n",
      "                  ponta solda       1.00      0.70      0.82        10\n",
      "        porta papel higienico       1.00      1.00      1.00        10\n",
      "                  progressiva       0.56      1.00      0.71        10\n",
      "                puxador porta       0.91      1.00      0.95        10\n",
      "                         rodo       1.00      1.00      1.00        10\n",
      "              rolamento carro       1.00      1.00      1.00         7\n",
      "                    sapatilha       1.00      1.00      1.00        10\n",
      "suplemento alimentar infantil       0.91      1.00      0.95        10\n",
      "           suporte smartphone       0.00      0.00      0.00        10\n",
      "                        tasso       1.00      0.90      0.95        10\n",
      "              teclado musical       1.00      1.00      1.00        10\n",
      "                        tiara       1.00      1.00      1.00        10\n",
      "              tira mancha pet       1.00      1.00      1.00         5\n",
      "                        touca       1.00      1.00      1.00        10\n",
      "                     vibrador       1.00      1.00      1.00        10\n",
      "\n",
      "                     accuracy                           0.94       490\n",
      "                    macro avg       0.94      0.95      0.94       490\n",
      "                 weighted avg       0.94      0.94      0.94       490\n",
      "\n"
     ]
    }
   ],
   "source": [
    "# get classification report from df\n",
    "from sklearn.metrics import classification_report\n",
    "print(classification_report(df[\"Class\"], df[\"LLM classification\"]))"
   ]
  },
  {
   "cell_type": "code",
   "execution_count": null,
   "metadata": {},
   "outputs": [
    {
     "data": {
      "text/plain": [
       "Class\n",
       "caminhao sonoro                  10\n",
       "peruca                           10\n",
       "rodo                             10\n",
       "biscoito wafer                   10\n",
       "massa                            10\n",
       "papel camurca                    10\n",
       "amaciante calo                   10\n",
       "puxador porta                    10\n",
       "bule                             10\n",
       "vibrador                         10\n",
       "cortador                         10\n",
       "oleo reparador                   10\n",
       "papel sulfite                    10\n",
       "porta papel higienico            10\n",
       "espelho passaro                  10\n",
       "botao acionamento caixa          10\n",
       "mascara cabelo                   10\n",
       "pino macho                       10\n",
       "caixa acustica                   10\n",
       "armario aereo                    10\n",
       "suporte smartphone               10\n",
       "painel luz led                   10\n",
       "tasso                            10\n",
       "brinquedo relogio                10\n",
       "moletom                          10\n",
       "gel fixador                      10\n",
       "ponta solda                      10\n",
       "oleo essencial                   10\n",
       "lente lanterna carro             10\n",
       "tiara                            10\n",
       "dock station                     10\n",
       "brinquedo bola corda pet         10\n",
       "controle disparador              10\n",
       "suplemento alimentar infantil    10\n",
       "teclado musical                  10\n",
       "adaptador tomada                 10\n",
       "sapatilha                        10\n",
       "fechadura porta                  10\n",
       "fotocondutor                     10\n",
       "limpador oral                    10\n",
       "carregador usb                   10\n",
       "bandana pet                      10\n",
       "patch                            10\n",
       "progressiva                      10\n",
       "touca                            10\n",
       "bomba vacuo                      10\n",
       "moldura quadro                    9\n",
       "ampola capilar                    9\n",
       "rolamento carro                   7\n",
       "tira mancha pet                   5\n",
       "Name: count, dtype: int64"
      ]
     },
     "execution_count": 17,
     "metadata": {},
     "output_type": "execute_result"
    }
   ],
   "source": [
    "df['Class'].value_counts()"
   ]
  },
  {
   "cell_type": "code",
   "execution_count": null,
   "metadata": {},
   "outputs": [
    {
     "data": {
      "text/html": [
       "<div>\n",
       "<style scoped>\n",
       "    .dataframe tbody tr th:only-of-type {\n",
       "        vertical-align: middle;\n",
       "    }\n",
       "\n",
       "    .dataframe tbody tr th {\n",
       "        vertical-align: top;\n",
       "    }\n",
       "\n",
       "    .dataframe thead th {\n",
       "        text-align: right;\n",
       "    }\n",
       "</style>\n",
       "<table border=\"1\" class=\"dataframe\">\n",
       "  <thead>\n",
       "    <tr style=\"text-align: right;\">\n",
       "      <th></th>\n",
       "      <th>Class</th>\n",
       "      <th>Product name</th>\n",
       "      <th>Id</th>\n",
       "      <th>LLM classification</th>\n",
       "    </tr>\n",
       "  </thead>\n",
       "  <tbody>\n",
       "    <tr>\n",
       "      <th>0</th>\n",
       "      <td>caminhao sonoro</td>\n",
       "      <td>Caminhão Sonoro - Brinquedo Educativo de Madei...</td>\n",
       "      <td>2471056238</td>\n",
       "      <td>caminhao sonoro</td>\n",
       "    </tr>\n",
       "    <tr>\n",
       "      <th>1</th>\n",
       "      <td>caminhao sonoro</td>\n",
       "      <td>Caminhão Sonoro Em Madeira - Carimbras</td>\n",
       "      <td>2783873157</td>\n",
       "      <td>caminhao sonoro</td>\n",
       "    </tr>\n",
       "    <tr>\n",
       "      <th>2</th>\n",
       "      <td>caminhao sonoro</td>\n",
       "      <td>Fecho Cinto Segurança Dianteiro Caminhão Com S...</td>\n",
       "      <td>1625230957</td>\n",
       "      <td>caminhao sonoro</td>\n",
       "    </tr>\n",
       "    <tr>\n",
       "      <th>3</th>\n",
       "      <td>caminhao sonoro</td>\n",
       "      <td>Dni0526 Alarme Sinalizador Sonoro E Visual par...</td>\n",
       "      <td>2469110493</td>\n",
       "      <td>caminhao sonoro</td>\n",
       "    </tr>\n",
       "    <tr>\n",
       "      <th>4</th>\n",
       "      <td>caminhao sonoro</td>\n",
       "      <td>Caminhão Sonoro - Brinquedo Educativo de Madei...</td>\n",
       "      <td>29704506</td>\n",
       "      <td>caminhao sonoro</td>\n",
       "    </tr>\n",
       "    <tr>\n",
       "      <th>5</th>\n",
       "      <td>caminhao sonoro</td>\n",
       "      <td>Caminhão Sonoro - Brinquedo Educativo de Madei...</td>\n",
       "      <td>3899898031</td>\n",
       "      <td>caminhao sonoro</td>\n",
       "    </tr>\n",
       "    <tr>\n",
       "      <th>6</th>\n",
       "      <td>caminhao sonoro</td>\n",
       "      <td>Dni0526 Alarme Sinalizador Sonoro E Visual par...</td>\n",
       "      <td>4998329853</td>\n",
       "      <td>caminhao sonoro</td>\n",
       "    </tr>\n",
       "    <tr>\n",
       "      <th>7</th>\n",
       "      <td>caminhao sonoro</td>\n",
       "      <td>Caminhão Sonoro Em Madeira - Carimbras</td>\n",
       "      <td>5895419119</td>\n",
       "      <td>caminhao sonoro</td>\n",
       "    </tr>\n",
       "    <tr>\n",
       "      <th>8</th>\n",
       "      <td>caminhao sonoro</td>\n",
       "      <td>Carrinhos de brinquedo coloridos com caminhão ...</td>\n",
       "      <td>7432785681</td>\n",
       "      <td>caminhao sonoro</td>\n",
       "    </tr>\n",
       "    <tr>\n",
       "      <th>9</th>\n",
       "      <td>caminhao sonoro</td>\n",
       "      <td>ArtCreativity Light Up Dump Truck Toy, Brinque...</td>\n",
       "      <td>7468944015</td>\n",
       "      <td>caminhao sonoro</td>\n",
       "    </tr>\n",
       "    <tr>\n",
       "      <th>196</th>\n",
       "      <td>suporte smartphone</td>\n",
       "      <td>Kit Quebra Mato + Estribo Plat + Santo Anto H3...</td>\n",
       "      <td>4877687443</td>\n",
       "      <td>caminhao sonoro</td>\n",
       "    </tr>\n",
       "    <tr>\n",
       "      <th>197</th>\n",
       "      <td>suporte smartphone</td>\n",
       "      <td>Kit Quebra mato + Estribo personalizad preto T...</td>\n",
       "      <td>4872759196</td>\n",
       "      <td>caminhao sonoro</td>\n",
       "    </tr>\n",
       "    <tr>\n",
       "      <th>198</th>\n",
       "      <td>suporte smartphone</td>\n",
       "      <td>Kit Quebra Mato + Estribo p. Prata + Santo dup...</td>\n",
       "      <td>4872448398</td>\n",
       "      <td>caminhao sonoro</td>\n",
       "    </tr>\n",
       "    <tr>\n",
       "      <th>199</th>\n",
       "      <td>suporte smartphone</td>\n",
       "      <td>Kit Quebra Mato + Estribo CHAPA + Santo Ant H2...</td>\n",
       "      <td>4873180821</td>\n",
       "      <td>caminhao sonoro</td>\n",
       "    </tr>\n",
       "    <tr>\n",
       "      <th>200</th>\n",
       "      <td>suporte smartphone</td>\n",
       "      <td>Kit Quebra Mato + Estribo Preto Fosco + Santo ...</td>\n",
       "      <td>4873073276</td>\n",
       "      <td>caminhao sonoro</td>\n",
       "    </tr>\n",
       "    <tr>\n",
       "      <th>201</th>\n",
       "      <td>suporte smartphone</td>\n",
       "      <td>Kit Quebra Mato + Estribo CHAPA + Santo Ant H3...</td>\n",
       "      <td>4872789686</td>\n",
       "      <td>caminhao sonoro</td>\n",
       "    </tr>\n",
       "    <tr>\n",
       "      <th>202</th>\n",
       "      <td>suporte smartphone</td>\n",
       "      <td>Kit Quebra Mato + Estribo Plat. + Santo Anto H...</td>\n",
       "      <td>4877698281</td>\n",
       "      <td>caminhao sonoro</td>\n",
       "    </tr>\n",
       "    <tr>\n",
       "      <th>203</th>\n",
       "      <td>suporte smartphone</td>\n",
       "      <td>Kit Quebra Mato + Estribo CHAPA + Santo Ant H2...</td>\n",
       "      <td>4872647389</td>\n",
       "      <td>caminhao sonoro</td>\n",
       "    </tr>\n",
       "    <tr>\n",
       "      <th>204</th>\n",
       "      <td>suporte smartphone</td>\n",
       "      <td>Kit Quebra Mato + Estribo CHAPA + Santo Ant H2...</td>\n",
       "      <td>4873196090</td>\n",
       "      <td>caminhao sonoro</td>\n",
       "    </tr>\n",
       "    <tr>\n",
       "      <th>205</th>\n",
       "      <td>suporte smartphone</td>\n",
       "      <td>Kit Quebra Mato + Estribo CHAPA + Santo Ant H3...</td>\n",
       "      <td>4873865898</td>\n",
       "      <td>caminhao sonoro</td>\n",
       "    </tr>\n",
       "  </tbody>\n",
       "</table>\n",
       "</div>"
      ],
      "text/plain": [
       "                  Class                                       Product name  \\\n",
       "0       caminhao sonoro  Caminhão Sonoro - Brinquedo Educativo de Madei...   \n",
       "1       caminhao sonoro             Caminhão Sonoro Em Madeira - Carimbras   \n",
       "2       caminhao sonoro  Fecho Cinto Segurança Dianteiro Caminhão Com S...   \n",
       "3       caminhao sonoro  Dni0526 Alarme Sinalizador Sonoro E Visual par...   \n",
       "4       caminhao sonoro  Caminhão Sonoro - Brinquedo Educativo de Madei...   \n",
       "5       caminhao sonoro  Caminhão Sonoro - Brinquedo Educativo de Madei...   \n",
       "6       caminhao sonoro  Dni0526 Alarme Sinalizador Sonoro E Visual par...   \n",
       "7       caminhao sonoro             Caminhão Sonoro Em Madeira - Carimbras   \n",
       "8       caminhao sonoro  Carrinhos de brinquedo coloridos com caminhão ...   \n",
       "9       caminhao sonoro  ArtCreativity Light Up Dump Truck Toy, Brinque...   \n",
       "196  suporte smartphone  Kit Quebra Mato + Estribo Plat + Santo Anto H3...   \n",
       "197  suporte smartphone  Kit Quebra mato + Estribo personalizad preto T...   \n",
       "198  suporte smartphone  Kit Quebra Mato + Estribo p. Prata + Santo dup...   \n",
       "199  suporte smartphone  Kit Quebra Mato + Estribo CHAPA + Santo Ant H2...   \n",
       "200  suporte smartphone  Kit Quebra Mato + Estribo Preto Fosco + Santo ...   \n",
       "201  suporte smartphone  Kit Quebra Mato + Estribo CHAPA + Santo Ant H3...   \n",
       "202  suporte smartphone  Kit Quebra Mato + Estribo Plat. + Santo Anto H...   \n",
       "203  suporte smartphone  Kit Quebra Mato + Estribo CHAPA + Santo Ant H2...   \n",
       "204  suporte smartphone  Kit Quebra Mato + Estribo CHAPA + Santo Ant H2...   \n",
       "205  suporte smartphone  Kit Quebra Mato + Estribo CHAPA + Santo Ant H3...   \n",
       "\n",
       "             Id LLM classification  \n",
       "0    2471056238    caminhao sonoro  \n",
       "1    2783873157    caminhao sonoro  \n",
       "2    1625230957    caminhao sonoro  \n",
       "3    2469110493    caminhao sonoro  \n",
       "4      29704506    caminhao sonoro  \n",
       "5    3899898031    caminhao sonoro  \n",
       "6    4998329853    caminhao sonoro  \n",
       "7    5895419119    caminhao sonoro  \n",
       "8    7432785681    caminhao sonoro  \n",
       "9    7468944015    caminhao sonoro  \n",
       "196  4877687443    caminhao sonoro  \n",
       "197  4872759196    caminhao sonoro  \n",
       "198  4872448398    caminhao sonoro  \n",
       "199  4873180821    caminhao sonoro  \n",
       "200  4873073276    caminhao sonoro  \n",
       "201  4872789686    caminhao sonoro  \n",
       "202  4877698281    caminhao sonoro  \n",
       "203  4872647389    caminhao sonoro  \n",
       "204  4873196090    caminhao sonoro  \n",
       "205  4873865898    caminhao sonoro  "
      ]
     },
     "execution_count": 19,
     "metadata": {},
     "output_type": "execute_result"
    }
   ],
   "source": [
    "# df['LLM classification'] where llm classification == \"caminhao sonoro\"\n",
    "\n",
    "df[df['LLM classification'] == \"caminhao sonoro\"]"
   ]
  },
  {
   "cell_type": "code",
   "execution_count": 13,
   "metadata": {},
   "outputs": [
    {
     "name": "stdout",
     "output_type": "stream",
     "text": [
      "Produto: Magnazia Sabor Lima-Limão Suspensão Oral 240ml\n",
      "Resposta: suplemento alimentar infantil \n",
      "\n"
     ]
    }
   ],
   "source": [
    "product = \"Magnazia Sabor Lima-Limão Suspensão Oral 240ml\"\n",
    "\n",
    "prompt = f\"\"\"\n",
    "Contexto: Você receberá o título de um produto proveniente de um site de marketplace.\n",
    "Objetivo: Classifique o produto em uma das seguintes categorias: {classes}.\n",
    "Formatação: Escreva apenas a classificação do produto em uma linha.\n",
    "\n",
    "O produto é: {product}\n",
    "\"\"\"\n",
    "response = model.generate_content(prompt)\n",
    "print(f\"Produto: {product}\\nResposta: {response.text}\")"
   ]
  },
  {
   "cell_type": "code",
   "execution_count": 14,
   "metadata": {},
   "outputs": [
    {
     "name": "stdout",
     "output_type": "stream",
     "text": [
      "\n",
      "Contexto: Você receberá o título de um produto proveniente de um site de marketplace.\n",
      "Objetivo: Classifique o produto em uma das seguintes categorias: ['caminhao sonoro' 'peruca' 'rodo' 'biscoito wafer' 'rolamento carro'\n",
      " 'massa' 'papel camurca' 'puxador porta' 'amaciante calo' 'bule'\n",
      " 'vibrador' 'oleo reparador' 'papel sulfite' 'porta papel higienico'\n",
      " 'cortador' 'botao acionamento caixa' 'ampola capilar' 'espelho passaro'\n",
      " 'pino macho' 'mascara cabelo' 'suporte smartphone' 'tira mancha pet'\n",
      " 'painel luz led' 'brinquedo relogio' 'tasso' 'moletom' 'gel fixador'\n",
      " 'oleo essencial' 'lente lanterna carro' 'tiara' 'ponta solda'\n",
      " 'brinquedo bola corda pet' 'dock station' 'controle disparador'\n",
      " 'suplemento alimentar infantil' 'armario aereo' 'sapatilha'\n",
      " 'fechadura porta' 'fotocondutor' 'limpador oral' 'carregador usb'\n",
      " 'bandana pet' 'caixa acustica' 'adaptador tomada' 'touca' 'bomba vacuo'\n",
      " 'moldura quadro' 'teclado musical' 'progressiva' 'patch'].\n",
      "Formatação: Escreva apenas a classificação do produto em uma linha.\n",
      "\n",
      "O produto é: Magnazia Sabor Lima-Limão Suspensão Oral 240ml\n",
      "\n"
     ]
    }
   ],
   "source": [
    "print(prompt)"
   ]
  },
  {
   "cell_type": "code",
   "execution_count": 19,
   "metadata": {},
   "outputs": [
    {
     "name": "stdout",
     "output_type": "stream",
     "text": [
      "False\n"
     ]
    }
   ],
   "source": [
    "print('suplemento alimentar' in classes)"
   ]
  }
 ],
 "metadata": {
  "kernelspec": {
   "display_name": "venv",
   "language": "python",
   "name": "python3"
  },
  "language_info": {
   "codemirror_mode": {
    "name": "ipython",
    "version": 3
   },
   "file_extension": ".py",
   "mimetype": "text/x-python",
   "name": "python",
   "nbconvert_exporter": "python",
   "pygments_lexer": "ipython3",
   "version": "3.11.9"
  }
 },
 "nbformat": 4,
 "nbformat_minor": 2
}
