{
 "cells": [
  {
   "cell_type": "code",
   "execution_count": 2,
   "metadata": {},
   "outputs": [],
   "source": [
    "import pandas as pd"
   ]
  },
  {
   "cell_type": "code",
   "execution_count": 4,
   "metadata": {},
   "outputs": [],
   "source": [
    "path = './results/'\n",
    "binary1 = pd.read_csv(path + 'sklearn_binary1_results.csv',sep=';')\n",
    "binary2 = pd.read_csv(path + 'sklearn_binary2_results.csv',sep=';')\n",
    "multiclass1 = pd.read_csv(path + 'sklearn_multiclass1_results.csv',sep=';')\n",
    "multiclass2 = pd.read_csv(path + 'sklearn_multiclass2_results.csv',sep=';')\n",
    "multilabel1 = pd.read_csv(path + 'sklearn_multilabel1_results.csv',sep=';')\n",
    "multilabel2 = pd.read_csv(path + 'sklearn_multilabel2_results.csv',sep=';')"
   ]
  },
  {
   "cell_type": "code",
   "execution_count": 18,
   "metadata": {},
   "outputs": [
    {
     "name": "stdout",
     "output_type": "stream",
     "text": [
      "Binary1: Full dataset\n",
      "Full train time:  20967.700681209568\n",
      "Mean fit time for all models:  283.347306502832\n",
      "Best model:  {'classifier': SVC(), 'classifier__C': 10, 'classifier__kernel': 'rbf', 'vectorizer': TfidfVectorizer()}  with mean fit time:  1635.8350620269775\n",
      "Best score:  0.8987\n"
     ]
    }
   ],
   "source": [
    "print(\"Binary1: Full dataset\")\n",
    "print(\"Full train time: \", binary1['mean_fit_time'].sum())\n",
    "print(\"Mean fit time for all models: \", binary1['mean_fit_time'].mean())\n",
    "\n",
    "best_model = binary1[binary1['rank_test_score'] == 1]['params'].values[0]\n",
    "best_fit_time = binary1[binary1['rank_test_score'] == 1]['mean_fit_time'].values[0]\n",
    "best_score = binary1[binary1['rank_test_score'] == 1]['mean_test_score'].values[0]\n",
    "\n",
    "print(\"Best model: \", best_model, \" with mean fit time: \", best_fit_time)\n",
    "print(\"Best score: \", best_score)"
   ]
  },
  {
   "cell_type": "code",
   "execution_count": 19,
   "metadata": {},
   "outputs": [
    {
     "name": "stdout",
     "output_type": "stream",
     "text": [
      "Binary2: 20% dataset\n",
      "Full train time:  748.7444152832031\n",
      "Mean fit time for all models:  10.118167774097339\n",
      "Best model:  {'classifier': GradientBoostingClassifier(), 'classifier__max_depth': 3, 'classifier__n_estimators': 200, 'vectorizer': TfidfVectorizer()}  with mean fit time:  30.56559290885925\n",
      "Best score:  0.9248251748251748\n"
     ]
    }
   ],
   "source": [
    "print(\"Binary2: 20% dataset\")\n",
    "print(\"Full train time: \", binary2['mean_fit_time'].sum())\n",
    "print(\"Mean fit time for all models: \", binary2['mean_fit_time'].mean())\n",
    "\n",
    "best_model = binary2[binary2['rank_test_score'] == 1]['params'].values[0]\n",
    "best_fit_time = binary2[binary2['rank_test_score'] == 1]['mean_fit_time'].values[0]\n",
    "best_score = binary2[binary2['rank_test_score'] == 1]['mean_test_score'].values[0]\n",
    "\n",
    "print(\"Best model: \", best_model, \" with mean fit time: \", best_fit_time)\n",
    "print(\"Best score: \", best_score)"
   ]
  },
  {
   "cell_type": "code",
   "execution_count": 20,
   "metadata": {},
   "outputs": [
    {
     "name": "stdout",
     "output_type": "stream",
     "text": [
      "Multiclass1: Full dataset\n",
      "Full train time:  9007.758710241318\n",
      "Mean fit time for all models:  121.72646905731511\n",
      "Best model:  {'classifier': SVC(), 'classifier__C': 10, 'classifier__kernel': 'rbf', 'vectorizer': TfidfVectorizer()}  with mean fit time:  382.0070761203766\n",
      "Best score:  0.9792508348677988\n"
     ]
    }
   ],
   "source": [
    "print(\"Multiclass1: Full dataset\")\n",
    "print(\"Full train time: \", multiclass1['mean_fit_time'].sum())\n",
    "print(\"Mean fit time for all models: \", multiclass1['mean_fit_time'].mean())\n",
    "\n",
    "best_model = multiclass1[multiclass1['rank_test_score'] == 1]['params'].values[0]\n",
    "best_fit_time = multiclass1[multiclass1['rank_test_score'] == 1]['mean_fit_time'].values[0]\n",
    "best_score = multiclass1[multiclass1['rank_test_score'] == 1]['mean_test_score'].values[0]\n",
    "\n",
    "print(\"Best model: \", best_model, \" with mean fit time: \", best_fit_time)\n",
    "print(\"Best score: \", best_score)"
   ]
  },
  {
   "cell_type": "code",
   "execution_count": 21,
   "metadata": {},
   "outputs": [
    {
     "name": "stdout",
     "output_type": "stream",
     "text": [
      "Multiclass2: 24-50 occurences of each class\n",
      "Full train time:  2693.7609087467195\n",
      "Mean fit time for all models:  36.40217444252323\n",
      "Best model:  {'classifier': LogisticRegression(max_iter=1000), 'classifier__C': 10, 'vectorizer': TfidfVectorizer()}  with mean fit time:  10.850115823745728\n",
      "Best score:  0.565658058095033\n"
     ]
    }
   ],
   "source": [
    "print(\"Multiclass2: 24-50 occurences of each class\")\n",
    "print(\"Full train time: \", multiclass2['mean_fit_time'].sum())\n",
    "print(\"Mean fit time for all models: \", multiclass2['mean_fit_time'].mean())\n",
    "\n",
    "best_model = multiclass2[multiclass2['rank_test_score'] == 1]['params'].values[0]\n",
    "best_fit_time = multiclass2[multiclass2['rank_test_score'] == 1]['mean_fit_time'].values[0]\n",
    "best_score = multiclass2[multiclass2['rank_test_score'] == 1]['mean_test_score'].values[0]\n",
    "\n",
    "print(\"Best model: \", best_model, \" with mean fit time: \", best_fit_time)\n",
    "print(\"Best score: \", best_score)"
   ]
  },
  {
   "cell_type": "code",
   "execution_count": 22,
   "metadata": {},
   "outputs": [
    {
     "name": "stdout",
     "output_type": "stream",
     "text": [
      "MultiLabel1: Full dataset\n",
      "Full train time:  623.5425232887268\n",
      "Mean fit time for all models:  16.40901377075597\n",
      "Best model:  {'classifier': OneVsRestClassifier(estimator=SGDClassifier()), 'classifier__estimator__alpha': 0.0001, 'vectorizer': TfidfVectorizer()}  with mean fit time:  0.203510570526123\n",
      "Best score:  0.426159094913172\n"
     ]
    }
   ],
   "source": [
    "print(\"MultiLabel1: Full dataset\")\n",
    "print(\"Full train time: \", multilabel1['mean_fit_time'].sum())\n",
    "print(\"Mean fit time for all models: \", multilabel1['mean_fit_time'].mean())\n",
    "\n",
    "best_model = multilabel1[multilabel1['rank_test_score'] == 1]['params'].values[0]\n",
    "best_fit_time = multilabel1[multilabel1['rank_test_score'] == 1]['mean_fit_time'].values[0]\n",
    "best_score = multilabel1[multilabel1['rank_test_score'] == 1]['mean_test_score'].values[0]\n",
    "\n",
    "print(\"Best model: \", best_model, \" with mean fit time: \", best_fit_time)\n",
    "print(\"Best score: \", best_score)"
   ]
  },
  {
   "cell_type": "code",
   "execution_count": 23,
   "metadata": {},
   "outputs": [
    {
     "name": "stdout",
     "output_type": "stream",
     "text": [
      "MultiLabel2: Full dataset (small)\n",
      "Full train time:  4.5226231575012195\n",
      "Mean fit time for all models:  0.11901639888161104\n",
      "Best model:  {'classifier': OneVsRestClassifier(estimator=RandomForestClassifier()), 'classifier__estimator__max_depth': None, 'classifier__estimator__n_estimators': 200, 'vectorizer': TfidfVectorizer()}  with mean fit time:  0.323158311843872\n",
      "Best score:  0.9043478260869566\n"
     ]
    }
   ],
   "source": [
    "print(\"MultiLabel2: Full dataset (small)\")\n",
    "print(\"Full train time: \", multilabel2['mean_fit_time'].sum())\n",
    "print(\"Mean fit time for all models: \", multilabel2['mean_fit_time'].mean())\n",
    "\n",
    "best_model = multilabel2[multilabel2['rank_test_score'] == 1]['params'].values[0]\n",
    "best_fit_time = multilabel2[multilabel2['rank_test_score'] == 1]['mean_fit_time'].values[0]\n",
    "best_score = multilabel2[multilabel2['rank_test_score'] == 1]['mean_test_score'].values[0]\n",
    "\n",
    "print(\"Best model: \", best_model, \" with mean fit time: \", best_fit_time)\n",
    "print(\"Best score: \", best_score)"
   ]
  }
 ],
 "metadata": {
  "kernelspec": {
   "display_name": "venv",
   "language": "python",
   "name": "python3"
  },
  "language_info": {
   "codemirror_mode": {
    "name": "ipython",
    "version": 3
   },
   "file_extension": ".py",
   "mimetype": "text/x-python",
   "name": "python",
   "nbconvert_exporter": "python",
   "pygments_lexer": "ipython3",
   "version": "3.11.9"
  }
 },
 "nbformat": 4,
 "nbformat_minor": 2
}
