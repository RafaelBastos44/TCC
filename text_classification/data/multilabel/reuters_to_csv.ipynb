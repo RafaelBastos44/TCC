{
 "cells": [
  {
   "cell_type": "code",
   "execution_count": 14,
   "metadata": {},
   "outputs": [],
   "source": [
    "import nltk\n",
    "from nltk.corpus import reuters\n",
    "import pandas as pd\n",
    "from sklearn.model_selection import train_test_split\n",
    "from sklearn.feature_extraction.text import TfidfVectorizer\n",
    "from sklearn.multioutput import MultiOutputClassifier\n",
    "from sklearn.ensemble import RandomForestClassifier\n",
    "from sklearn.metrics import classification_report\n",
    "from sklearn.preprocessing import MultiLabelBinarizer"
   ]
  },
  {
   "cell_type": "code",
   "execution_count": 15,
   "metadata": {},
   "outputs": [
    {
     "name": "stderr",
     "output_type": "stream",
     "text": [
      "[nltk_data] Downloading package reuters to\n",
      "[nltk_data]     C:\\Users\\Rafael\\AppData\\Roaming\\nltk_data...\n",
      "[nltk_data]   Package reuters is already up-to-date!\n",
      "[nltk_data] Downloading package punkt to\n",
      "[nltk_data]     C:\\Users\\Rafael\\AppData\\Roaming\\nltk_data...\n",
      "[nltk_data]   Package punkt is already up-to-date!\n"
     ]
    },
    {
     "data": {
      "text/plain": [
       "True"
      ]
     },
     "execution_count": 15,
     "metadata": {},
     "output_type": "execute_result"
    }
   ],
   "source": [
    "nltk.download('reuters')\n",
    "nltk.download('punkt')"
   ]
  },
  {
   "cell_type": "code",
   "execution_count": 16,
   "metadata": {},
   "outputs": [
    {
     "name": "stdout",
     "output_type": "stream",
     "text": [
      "       Doc_ID                                               Text  acq  alum  \\\n",
      "0  test/14826  ASIAN EXPORTERS FEAR DAMAGE FROM U.S.-JAPAN RI...    0     0   \n",
      "1  test/14828  CHINA DAILY SAYS VERMIN EAT 7-12 PCT GRAIN STO...    0     0   \n",
      "2  test/14829  JAPAN TO REVISE LONG-TERM ENERGY DEMAND DOWNWA...    0     0   \n",
      "3  test/14832  THAI TRADE DEFICIT WIDENS IN FIRST QUARTER\\n  ...    0     0   \n",
      "4  test/14833  INDONESIA SEES CPO PRICE RISING SHARPLY\\n  Ind...    0     0   \n",
      "\n",
      "   barley  bop  carcass  castor-oil  cocoa  coconut  ...  sun-oil  sunseed  \\\n",
      "0       0    0        0           0      0        0  ...        0        0   \n",
      "1       0    0        0           0      0        0  ...        0        0   \n",
      "2       0    0        0           0      0        0  ...        0        0   \n",
      "3       0    0        0           0      0        0  ...        0        0   \n",
      "4       0    0        0           0      0        0  ...        0        0   \n",
      "\n",
      "   tea  tin  trade  veg-oil  wheat  wpi  yen  zinc  \n",
      "0    0    0      1        0      0    0    0     0  \n",
      "1    0    0      0        0      0    0    0     0  \n",
      "2    0    0      0        0      0    0    0     0  \n",
      "3    0    1      1        0      0    0    0     0  \n",
      "4    0    0      0        1      0    0    0     0  \n",
      "\n",
      "[5 rows x 92 columns]\n"
     ]
    }
   ],
   "source": [
    "# Get all file IDs\n",
    "file_ids = reuters.fileids()\n",
    "\n",
    "# Extract text and categories for each document\n",
    "docs = []\n",
    "for doc_id in file_ids:\n",
    "    doc_text = reuters.raw(doc_id)\n",
    "    doc_categories = reuters.categories(doc_id)\n",
    "    docs.append((doc_id, doc_text, doc_categories))\n",
    "\n",
    "# Convert to a DataFrame\n",
    "df = pd.DataFrame(docs, columns=['Doc_ID', 'Text', 'Categories'])\n",
    "\n",
    "# Binarize the categories\n",
    "mlb = MultiLabelBinarizer()\n",
    "df = df.join(pd.DataFrame(mlb.fit_transform(df.pop('Categories')),\n",
    "                          columns=mlb.classes_,\n",
    "                          index=df.index))\n",
    "\n",
    "# Display the DataFrame\n",
    "print(df.head())\n"
   ]
  },
  {
   "cell_type": "code",
   "execution_count": null,
   "metadata": {},
   "outputs": [],
   "source": [
    "df.to_csv('reuters.csv')"
   ]
  }
 ],
 "metadata": {
  "kernelspec": {
   "display_name": "venv",
   "language": "python",
   "name": "python3"
  },
  "language_info": {
   "codemirror_mode": {
    "name": "ipython",
    "version": 3
   },
   "file_extension": ".py",
   "mimetype": "text/x-python",
   "name": "python",
   "nbconvert_exporter": "python",
   "pygments_lexer": "ipython3",
   "version": "3.11.9"
  }
 },
 "nbformat": 4,
 "nbformat_minor": 2
}
